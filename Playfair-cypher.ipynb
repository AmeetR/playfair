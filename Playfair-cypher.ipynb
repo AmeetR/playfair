{
 "cells": [
  {
   "cell_type": "code",
   "execution_count": 124,
   "metadata": {},
   "outputs": [],
   "source": [
    "import numpy as np\n",
    "import string\n",
    "from collections import OrderedDict"
   ]
  },
  {
   "cell_type": "markdown",
   "metadata": {},
   "source": [
    "# Playfair Cypher"
   ]
  },
  {
   "cell_type": "markdown",
   "metadata": {},
   "source": [
    "In this notebook, the encoding and decoding techniques of the Playfair Cypher will be utilized to implement it. The end result of this notebook should be a set of functions that can encode and decode messages with a given key under the Playfair Cypher. "
   ]
  },
  {
   "cell_type": "code",
   "execution_count": 125,
   "metadata": {},
   "outputs": [],
   "source": [
    "def remove_spaces(str):\n",
    "    ### This is a function that will remove all of the spaces from a string. \n",
    "    return str.replace(' ', '').lower()"
   ]
  },
  {
   "cell_type": "code",
   "execution_count": 126,
   "metadata": {},
   "outputs": [
    {
     "name": "stdout",
     "output_type": "stream",
     "text": [
      "All Tests Passed!\n"
     ]
    }
   ],
   "source": [
    "def remove_spaces_tests():\n",
    "    ### This is a small number of tests to ensure that the removing of spaces works properly\n",
    "    assert(remove_spaces(\" \") == \"\")\n",
    "    assert(remove_spaces(\"test test\") == \"testtest\")\n",
    "    assert(remove_spaces(\"test test test\") == \"testtesttest\")\n",
    "    assert(remove_spaces(\" test \") == \"test\")\n",
    "    assert(remove_spaces(\" A B c D\") == \"abcd\")\n",
    "    \n",
    "    print(\"All Tests Passed!\")\n",
    "    \n",
    "    \n",
    "remove_spaces_tests()"
   ]
  },
  {
   "cell_type": "markdown",
   "metadata": {},
   "source": [
    "Since spaces aren't relevent to the cyper, we should remove them from the input. The above code is doing this, along with some tests. The Playfair Cyper also only works in pairs, meaning that if the length of a given string is odd, the Playfair Cypher mandates that we add an 'X' to it, in order for the cyper to work. In order to do this, we will introduce a variable called \"is_odd\". If this variable is true, we will add an \"x\" to the end of the string and remove the last letter of the deciphered test or vice versa. "
   ]
  },
  {
   "cell_type": "code",
   "execution_count": 127,
   "metadata": {},
   "outputs": [],
   "source": [
    "is_odd = False\n",
    "def check_length(str):\n",
    "    global is_odd\n",
    "    is_odd = (len(str) % 2 == 1)\n",
    "    if is_odd:\n",
    "        return str + 'x'\n",
    "    return str"
   ]
  },
  {
   "cell_type": "code",
   "execution_count": 128,
   "metadata": {},
   "outputs": [
    {
     "name": "stdout",
     "output_type": "stream",
     "text": [
      "All Tests Passed!\n"
     ]
    }
   ],
   "source": [
    "def check_length_test():\n",
    "    global is_odd\n",
    "    assert(is_odd == False)\n",
    "    assert(check_length(\"j\") == \"jx\")\n",
    "    assert(is_odd == True)\n",
    "    is_odd = False\n",
    "    assert(check_length(\"test\") == \"test\")\n",
    "    assert(is_odd == False)\n",
    "    test_str = check_length(remove_spaces(\"t e s t 1 2 3\"))\n",
    "    assert(test_str == \"test123x\")\n",
    "    assert(is_odd == True)\n",
    "    print(\"All Tests Passed!\")\n",
    "    \n",
    "check_length_test()"
   ]
  },
  {
   "cell_type": "markdown",
   "metadata": {},
   "source": [
    "The key also needs to not have repeats, so let's implement a function that removes the repeats from a string. "
   ]
  },
  {
   "cell_type": "code",
   "execution_count": 129,
   "metadata": {},
   "outputs": [],
   "source": [
    "def remove_repeats(str):\n",
    "    str = str.replace(\"j\", \"i\")\n",
    "    return \"\".join(OrderedDict.fromkeys(str))"
   ]
  },
  {
   "cell_type": "code",
   "execution_count": 130,
   "metadata": {},
   "outputs": [
    {
     "name": "stdout",
     "output_type": "stream",
     "text": [
      "All Tests Passed!\n"
     ]
    }
   ],
   "source": [
    "def remove_repeats_test():\n",
    "    assert(remove_repeats(\"test\") == \"tes\")\n",
    "    print(\"All Tests Passed!\")\n",
    "remove_repeats_test()"
   ]
  },
  {
   "cell_type": "markdown",
   "metadata": {},
   "source": [
    "Now that all of our preprocessing tools have been implemented, it's time to begin implementing the encrypt function. Before that, however, it's necessary to set up our key. I'll implement this as a list for both speed and ease of use. "
   ]
  },
  {
   "cell_type": "code",
   "execution_count": 131,
   "metadata": {},
   "outputs": [],
   "source": [
    "key_array = []\n",
    "def define_key(key):\n",
    "    key = remove_repeats(remove_spaces(key))\n",
    "    global key_array\n",
    "    key_array = list(key)\n",
    "    \n",
    "    for i in list(string.ascii_lowercase):\n",
    "        if i not in key and i != ('j'):\n",
    "            key_array += i\n",
    "    return key_array"
   ]
  },
  {
   "cell_type": "code",
   "execution_count": 132,
   "metadata": {},
   "outputs": [
    {
     "name": "stdout",
     "output_type": "stream",
     "text": [
      "All Tests Passed!\n"
     ]
    }
   ],
   "source": [
    "def define_key_tests():\n",
    "    test1 = define_key(\" te s s t a\")\n",
    "    assert(len(test1) == 25)\n",
    "    test2 = define_key(\"a b c d e f g h i j k l m n o p q r s t u v\")\n",
    "    assert(len(test2) == 25)\n",
    "    print(\"All Tests Passed!\")\n",
    "define_key_tests()"
   ]
  },
  {
   "cell_type": "markdown",
   "metadata": {},
   "source": [
    "We, now, need to split the code into pairs, as that's how the code is interpreted. The following code is a list comprehension that splits a string into a list of pairs."
   ]
  },
  {
   "cell_type": "code",
   "execution_count": 133,
   "metadata": {},
   "outputs": [],
   "source": [
    "def split_string(str):\n",
    "    ### \"abcd = [(ab), (cd)]\n",
    "    return [''.join(t) for t in zip(*[iter(str)]*2)]"
   ]
  },
  {
   "cell_type": "code",
   "execution_count": 134,
   "metadata": {},
   "outputs": [
    {
     "name": "stdout",
     "output_type": "stream",
     "text": [
      "All Tests Passed!\n"
     ]
    }
   ],
   "source": [
    "def split_string_test():\n",
    "    assert(split_string(\"ab\") == [\"ab\"])\n",
    "    assert(split_string(\"abcd\") == [\"ab\", \"cd\"])\n",
    "    print(\"All Tests Passed!\")\n",
    "split_string_test()"
   ]
  },
  {
   "cell_type": "markdown",
   "metadata": {},
   "source": [
    "Now that we have a key implemented, our encryption and decryption function will essentially be math on the key list. Let's start with encryption. "
   ]
  },
  {
   "cell_type": "code",
   "execution_count": 135,
   "metadata": {},
   "outputs": [],
   "source": [
    "def encrypt(key, code): \n",
    "    ### There are three cases that we need to worry about for the encrypt function. \n",
    "    ### 1) If the two letters in the pair that we are looking at are in the same column\n",
    "    ### 2) If the two letters in the pair that we are looking at are in the same row\n",
    "    ### 3) If the two letters in the pair that we are looking at are in different rows/columns and we need to draw a box\n",
    "    key = define_key(key)\n",
    "    code = check_length(remove_repeats(code))\n",
    "    code = split_string(code)\n",
    "    output_string = \"\"\n",
    "    return code\n",
    "\n",
    "    "
   ]
  },
  {
   "cell_type": "code",
   "execution_count": null,
   "metadata": {},
   "outputs": [],
   "source": []
  },
  {
   "cell_type": "code",
   "execution_count": null,
   "metadata": {},
   "outputs": [],
   "source": []
  },
  {
   "cell_type": "code",
   "execution_count": null,
   "metadata": {},
   "outputs": [],
   "source": []
  },
  {
   "cell_type": "code",
   "execution_count": null,
   "metadata": {},
   "outputs": [],
   "source": []
  },
  {
   "cell_type": "code",
   "execution_count": null,
   "metadata": {},
   "outputs": [],
   "source": []
  }
 ],
 "metadata": {
  "kernelspec": {
   "display_name": "Python 3",
   "language": "python",
   "name": "python3"
  },
  "language_info": {
   "codemirror_mode": {
    "name": "ipython",
    "version": 3
   },
   "file_extension": ".py",
   "mimetype": "text/x-python",
   "name": "python",
   "nbconvert_exporter": "python",
   "pygments_lexer": "ipython3",
   "version": "3.6.4"
  }
 },
 "nbformat": 4,
 "nbformat_minor": 2
}
