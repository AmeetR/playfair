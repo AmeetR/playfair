{
 "cells": [
  {
   "cell_type": "code",
   "execution_count": 18,
   "metadata": {},
   "outputs": [],
   "source": [
    "import numpy as np"
   ]
  },
  {
   "cell_type": "markdown",
   "metadata": {},
   "source": [
    "# Playfair Cypher"
   ]
  },
  {
   "cell_type": "markdown",
   "metadata": {},
   "source": [
    "In this notebook, the encoding and decoding techniques of the Playfair Cypher will be utilized to implement it. The end result of this notebook should be a set of functions that can encode and decode messages with a given key under the Playfair Cypher. "
   ]
  },
  {
   "cell_type": "code",
   "execution_count": 19,
   "metadata": {},
   "outputs": [],
   "source": [
    "def remove_spaces(str):\n",
    "    ### This is a function that will remove all of the spaces from a string. \n",
    "    return str.replace(' ', '')"
   ]
  },
  {
   "cell_type": "code",
   "execution_count": 20,
   "metadata": {},
   "outputs": [
    {
     "name": "stdout",
     "output_type": "stream",
     "text": [
      "All Tests Passed!\n"
     ]
    }
   ],
   "source": [
    "def remove_spaces_tests():\n",
    "    ### This is a small number of tests to ensure that the removing of spaces works properly\n",
    "    assert(remove_spaces(\" \") == \"\")\n",
    "    assert(remove_spaces(\"test test\") == \"testtest\")\n",
    "    assert(remove_spaces(\"test test test\") == \"testtesttest\")\n",
    "    assert(remove_spaces(\" test \") == \"test\")\n",
    "    \n",
    "    print(\"All Tests Passed!\")\n",
    "    \n",
    "    \n",
    "remove_spaces_tests()"
   ]
  },
  {
   "cell_type": "markdown",
   "metadata": {},
   "source": [
    "Since spaces aren't relevent to the cyper, we should remove them from the input. The above code is doing this, along with some tests. The Playfair Cyper also only works in pairs, meaning that if the length of a given string is odd, the Playfair Cypher mandates that we add an 'X' to it, in order for the cyper to work. In order to do this, we will introduce a variable called \"is_odd\". If this variable is true, we will add an \"x\" to the end of the string and remove the last letter of the deciphered test or vice versa. "
   ]
  },
  {
   "cell_type": "code",
   "execution_count": 31,
   "metadata": {},
   "outputs": [],
   "source": [
    "\n",
    "is_odd = False\n",
    "def check_length(str):\n",
    "    global is_odd\n",
    "    is_odd = (len(str) % 2 == 1)\n",
    "    if is_odd:\n",
    "        return str + 'x'\n",
    "    return str"
   ]
  },
  {
   "cell_type": "code",
   "execution_count": 32,
   "metadata": {},
   "outputs": [
    {
     "name": "stdout",
     "output_type": "stream",
     "text": [
      "All Tests Passed!\n"
     ]
    }
   ],
   "source": [
    "def check_length_test():\n",
    "    global is_odd\n",
    "    assert(is_odd == False)\n",
    "    assert(check_length(\"j\") == \"jx\")\n",
    "    assert(is_odd == True)\n",
    "    is_odd = False\n",
    "    assert(check_length(\"test\") == \"test\")\n",
    "    assert(is_odd == False)\n",
    "    test_str = check_length(remove_spaces(\"t e s t 1 2 3\"))\n",
    "    assert(test_str == \"test123x\")\n",
    "    assert(is_odd == True)\n",
    "    print(\"All Tests Passed!\")\n",
    "    \n",
    "check_length_test()"
   ]
  },
  {
   "cell_type": "code",
   "execution_count": null,
   "metadata": {},
   "outputs": [],
   "source": []
  }
 ],
 "metadata": {
  "kernelspec": {
   "display_name": "Python 3",
   "language": "python",
   "name": "python3"
  },
  "language_info": {
   "codemirror_mode": {
    "name": "ipython",
    "version": 3
   },
   "file_extension": ".py",
   "mimetype": "text/x-python",
   "name": "python",
   "nbconvert_exporter": "python",
   "pygments_lexer": "ipython3",
   "version": "3.6.4"
  }
 },
 "nbformat": 4,
 "nbformat_minor": 2
}
